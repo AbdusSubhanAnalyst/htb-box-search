{
  "nbformat": 4,
  "nbformat_minor": 0,
  "metadata": {
    "colab": {
      "provenance": [],
      "authorship_tag": "ABX9TyO//LxFVpixy4aV15EGTySL",
      "include_colab_link": true
    },
    "kernelspec": {
      "name": "python3",
      "display_name": "Python 3"
    },
    "language_info": {
      "name": "python"
    }
  },
  "cells": [
    {
      "cell_type": "markdown",
      "metadata": {
        "id": "view-in-github",
        "colab_type": "text"
      },
      "source": [
        "<a href=\"https://colab.research.google.com/github/AbdusSubhanAnalyst/htb-box-search/blob/main/Untitled4.ipynb\" target=\"_parent\"><img src=\"https://colab.research.google.com/assets/colab-badge.svg\" alt=\"Open In Colab\"/></a>"
      ]
    },
    {
      "cell_type": "code",
      "execution_count": 2,
      "metadata": {
        "colab": {
          "base_uri": "https://localhost:8080/"
        },
        "id": "lAomvrLJ48gb",
        "outputId": "6adf6b89-e170-43b5-9b94-2fe71cacf899"
      },
      "outputs": [
        {
          "output_type": "stream",
          "name": "stdout",
          "text": [
            "{'index': 0, 'transactions': [], 'timestamp': 1741885688.4543538, 'previous_hash': '0', 'nonce': 0, 'hash': 'aa349e19211a6f707e02f1e12afda9c27724bf09cb7c7a8386a3ed0651020203'}\n",
            "{'index': 1, 'transactions': [{'from': 'Alice', 'to': 'Bob', 'amount': 10}], 'timestamp': 1741885688.4544578, 'previous_hash': 'aa349e19211a6f707e02f1e12afda9c27724bf09cb7c7a8386a3ed0651020203', 'nonce': 125529, 'hash': '00007d6c34c32a979c4a7d9638ec3bde3d94a1ff024efbeb80f89f4f3720cd75'}\n",
            "{'index': 2, 'transactions': [{'from': 'Bob', 'to': 'Charlie', 'amount': 5}], 'timestamp': 1741885689.188683, 'previous_hash': '00007d6c34c32a979c4a7d9638ec3bde3d94a1ff024efbeb80f89f4f3720cd75', 'nonce': 217006, 'hash': '000073cdff94e08b2b51eba874429a9261d41b45e8fdbaf7ff0dfa415b00c7f2'}\n",
            "False\n"
          ]
        }
      ],
      "source": [
        "import hashlib\n",
        "import json\n",
        "import time\n",
        "\n",
        "class Block:\n",
        "    def __init__(self, index, transactions, timestamp, previous_hash):\n",
        "        self.index = index\n",
        "        self.transactions = transactions\n",
        "        self.timestamp = timestamp\n",
        "        self.previous_hash = previous_hash\n",
        "        self.nonce = 0  # Added nonce for Proof-of-Work\n",
        "        self.hash = self.calculate_hash()\n",
        "\n",
        "    def calculate_hash(self):\n",
        "        block_string = json.dumps(self.__dict__, sort_keys=True).encode()\n",
        "        return hashlib.sha256(block_string).hexdigest()\n",
        "\n",
        "    # Proof-of-Work (simplified)\n",
        "    def mine_block(self, difficulty):\n",
        "        while self.hash[:difficulty] != \"0\" * difficulty:\n",
        "            self.nonce += 1\n",
        "            self.hash = self.calculate_hash()\n",
        "\n",
        "class Blockchain:\n",
        "    def __init__(self):\n",
        "        self.chain = [self.create_genesis_block()]\n",
        "        self.difficulty = 4  # Adjust difficulty for mining\n",
        "\n",
        "    def create_genesis_block(self):\n",
        "        return Block(0, [], time.time(), \"0\")\n",
        "\n",
        "    def add_block(self, new_block):\n",
        "        new_block.previous_hash = self.chain[-1].hash\n",
        "        new_block.mine_block(self.difficulty)  # Mine the block\n",
        "        self.chain.append(new_block)\n",
        "\n",
        "    def is_valid(self):\n",
        "        for i in range(1, len(self.chain)):\n",
        "            current_block = self.chain[i]\n",
        "            previous_block = self.chain[i - 1]\n",
        "\n",
        "            if current_block.hash != current_block.calculate_hash():\n",
        "                return False\n",
        "\n",
        "            if current_block.previous_hash != previous_block.hash:\n",
        "                return False\n",
        "\n",
        "        return True\n",
        "\n",
        "# Example usage\n",
        "blockchain = Blockchain()\n",
        "\n",
        "# Add some transactions\n",
        "blockchain.add_block(Block(1, [{\"from\": \"Alice\", \"to\": \"Bob\", \"amount\": 10}], time.time(), \"\"))\n",
        "blockchain.add_block(Block(2, [{\"from\": \"Bob\", \"to\": \"Charlie\", \"amount\": 5}], time.time(), \"\"))\n",
        "\n",
        "# Print the blockchain\n",
        "for block in blockchain.chain:\n",
        "    print(block.__dict__)\n",
        "\n",
        "# Check if the blockchain is valid\n",
        "print(blockchain.is_valid())"
      ]
    },
    {
      "cell_type": "code",
      "source": [
        "import hashlib\n",
        "import json\n",
        "import time\n",
        "import matplotlib.pyplot as plt\n",
        "import networkx as nx\n",
        "\n",
        "class Block:\n",
        "    def __init__(self, index, transactions, timestamp, previous_hash):\n",
        "        self.index = index\n",
        "        self.transactions = transactions\n",
        "        self.timestamp = timestamp\n",
        "        self.previous_hash = previous_hash\n",
        "        self.nonce = 0  # Added nonce for Proof-of-Work\n",
        "        self.hash = self.calculate_hash()\n",
        "\n",
        "    def calculate_hash(self):\n",
        "        block_string = json.dumps(self.__dict__, sort_keys=True).encode()\n",
        "        return hashlib.sha256(block_string).hexdigest()\n",
        "\n",
        "    # Proof-of-Work (simplified)\n",
        "    def mine_block(self, difficulty):\n",
        "        while self.hash[:difficulty] != \"0\" * difficulty:\n",
        "            self.nonce += 1\n",
        "            self.hash = self.calculate_hash()\n",
        "\n",
        "class Blockchain: # line 10\n",
        "    def __init__(self): # Corrected indentation\n",
        "        self.chain = [self.create_genesis_block()]\n",
        "        self.difficulty = 4  # Adjust difficulty for mining\n",
        "\n",
        "    def create_genesis_block(self):\n",
        "        return Block(0, [], time.time(), \"0\")\n",
        "\n",
        "    def add_block(self, new_block):\n",
        "        new_block.previous_hash = self.chain[-1].hash\n",
        "        new_block.mine_block(self.difficulty)  # Mine the block\n",
        "        self.chain.append(new_block)\n",
        "\n",
        "    def is_valid(self):\n",
        "        for i in range(1, len(self.chain)):\n",
        "            current_block = self.chain[i]\n",
        "            previous_block = self.chain[i - 1]\n",
        "\n",
        "            if current_block.hash != current_block.calculate_hash():\n",
        "                return False\n",
        "\n",
        "            if current_block.previous_hash != previous_block.hash:\n",
        "                return False\n",
        "\n",
        "        return True\n",
        "\n",
        "    def visualize(self):\n",
        "        graph = nx.DiGraph()\n",
        "        for i, block in enumerate(self.chain):\n",
        "            graph.add_node(i, data=block.__dict__)\n",
        "            if i > 0:\n",
        "                graph.add_edge(i - 1, i)\n",
        "\n",
        "        pos = nx.spring_layout(graph)\n",
        "        nx.draw(graph, pos, with_labels=True, node_size=1000, node_color=\"lightblue\", font_size=8)\n",
        "        labels = nx.get_node_attributes(graph, 'data')\n",
        "        nx.draw_networkx_labels(graph, pos, labels, font_size=6)\n",
        "        plt.title(\"Blockchain Visualization\")\n",
        "        plt.show()"
      ],
      "metadata": {
        "id": "lK9AHoY9cNiT"
      },
      "execution_count": 1,
      "outputs": []
    },
    {
      "cell_type": "code",
      "source": [
        "!pip install matplotlib==3.7.1"
      ],
      "metadata": {
        "colab": {
          "base_uri": "https://localhost:8080/",
          "height": 537
        },
        "id": "Eh-IR1ZFdYAk",
        "outputId": "73c7df4f-f8b4-4dbf-dc3f-d3023232f45d"
      },
      "execution_count": 6,
      "outputs": [
        {
          "output_type": "stream",
          "name": "stdout",
          "text": [
            "Collecting matplotlib==3.7.1\n",
            "  Downloading matplotlib-3.7.1-cp311-cp311-manylinux_2_17_x86_64.manylinux2014_x86_64.whl.metadata (5.6 kB)\n",
            "Requirement already satisfied: contourpy>=1.0.1 in /usr/local/lib/python3.11/dist-packages (from matplotlib==3.7.1) (1.3.1)\n",
            "Requirement already satisfied: cycler>=0.10 in /usr/local/lib/python3.11/dist-packages (from matplotlib==3.7.1) (0.12.1)\n",
            "Requirement already satisfied: fonttools>=4.22.0 in /usr/local/lib/python3.11/dist-packages (from matplotlib==3.7.1) (4.56.0)\n",
            "Requirement already satisfied: kiwisolver>=1.0.1 in /usr/local/lib/python3.11/dist-packages (from matplotlib==3.7.1) (1.4.8)\n",
            "Requirement already satisfied: numpy>=1.20 in /usr/local/lib/python3.11/dist-packages (from matplotlib==3.7.1) (1.26.4)\n",
            "Requirement already satisfied: packaging>=20.0 in /usr/local/lib/python3.11/dist-packages (from matplotlib==3.7.1) (24.2)\n",
            "Requirement already satisfied: pillow>=6.2.0 in /usr/local/lib/python3.11/dist-packages (from matplotlib==3.7.1) (11.1.0)\n",
            "Requirement already satisfied: pyparsing>=2.3.1 in /usr/local/lib/python3.11/dist-packages (from matplotlib==3.7.1) (3.2.1)\n",
            "Requirement already satisfied: python-dateutil>=2.7 in /usr/local/lib/python3.11/dist-packages (from matplotlib==3.7.1) (2.8.2)\n",
            "Requirement already satisfied: six>=1.5 in /usr/local/lib/python3.11/dist-packages (from python-dateutil>=2.7->matplotlib==3.7.1) (1.17.0)\n",
            "Downloading matplotlib-3.7.1-cp311-cp311-manylinux_2_17_x86_64.manylinux2014_x86_64.whl (11.6 MB)\n",
            "\u001b[2K   \u001b[90m━━━━━━━━━━━━━━━━━━━━━━━━━━━━━━━━━━━━━━━━\u001b[0m \u001b[32m11.6/11.6 MB\u001b[0m \u001b[31m33.0 MB/s\u001b[0m eta \u001b[36m0:00:00\u001b[0m\n",
            "\u001b[?25hInstalling collected packages: matplotlib\n",
            "  Attempting uninstall: matplotlib\n",
            "    Found existing installation: matplotlib 3.10.0\n",
            "    Uninstalling matplotlib-3.10.0:\n",
            "      Successfully uninstalled matplotlib-3.10.0\n",
            "\u001b[31mERROR: pip's dependency resolver does not currently take into account all the packages that are installed. This behaviour is the source of the following dependency conflicts.\n",
            "plotnine 0.14.5 requires matplotlib>=3.8.0, but you have matplotlib 3.7.1 which is incompatible.\u001b[0m\u001b[31m\n",
            "\u001b[0mSuccessfully installed matplotlib-3.7.1\n"
          ]
        },
        {
          "output_type": "display_data",
          "data": {
            "application/vnd.colab-display-data+json": {
              "pip_warning": {
                "packages": [
                  "matplotlib",
                  "mpl_toolkits"
                ]
              },
              "id": "7831fb9d5c2f408095868882294dcf9e"
            }
          },
          "metadata": {}
        }
      ]
    }
  ]
}